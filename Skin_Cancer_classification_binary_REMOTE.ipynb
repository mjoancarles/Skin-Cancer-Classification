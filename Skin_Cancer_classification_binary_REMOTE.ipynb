{
  "cells": [
    {
      "cell_type": "markdown",
      "metadata": {
        "id": "bb6a29d4"
      },
      "source": [
        "Joan Carles Montero\n",
        "# Machine Learning-Based Classification of Skin Lesions\n",
        "## REMOTE binary classification"
      ],
      "id": "bb6a29d4"
    },
    {
      "cell_type": "code",
      "execution_count": 1,
      "metadata": {
        "colab": {
          "base_uri": "https://localhost:8080/"
        },
        "id": "3-pgegoeKhYr",
        "outputId": "b00c9e52-a18a-4119-8e46-0f6ceeb04642"
      },
      "outputs": [
        {
          "output_type": "stream",
          "name": "stdout",
          "text": [
            "Mounted at /content/drive\n"
          ]
        }
      ],
      "source": [
        "from google.colab import drive\n",
        "drive.mount('/content/drive')"
      ],
      "id": "3-pgegoeKhYr"
    },
    {
      "cell_type": "code",
      "execution_count": 2,
      "metadata": {
        "colab": {
          "base_uri": "https://localhost:8080/"
        },
        "id": "3pBb_4H-K0gH",
        "outputId": "11002cd4-70b6-420b-813e-4fa854cd3c88"
      },
      "outputs": [
        {
          "output_type": "execute_result",
          "data": {
            "text/plain": [
              "['Skin Cancer- Lesions Segmentation.url',\n",
              " '.ipynb_checkpoints',\n",
              " 'data',\n",
              " 'images.npy',\n",
              " 'labels.npy',\n",
              " 'model',\n",
              " 'images_mel.npy',\n",
              " 'labels_mel.npy',\n",
              " 'model_mel',\n",
              " 'Skin Cancer segmentation melanoma.ipynb',\n",
              " 'Skin Cancer segmentation.ipynb',\n",
              " 'Machine Learning-Based Classification of Skin Lesions.gslides']"
            ]
          },
          "metadata": {},
          "execution_count": 2
        }
      ],
      "source": [
        "import os\n",
        "# List the contents of the folder\n",
        "folder_path = '/content/drive/My Drive/Skin Cancer Lesions Segmentation'\n",
        "os.listdir(folder_path)"
      ],
      "id": "3pBb_4H-K0gH"
    },
    {
      "cell_type": "code",
      "execution_count": null,
      "metadata": {
        "colab": {
          "base_uri": "https://localhost:8080/"
        },
        "id": "9083f4d7",
        "outputId": "b67e80ea-fc3b-4caf-c86a-887370460cef"
      },
      "outputs": [
        {
          "name": "stdout",
          "output_type": "stream",
          "text": [
            "Num GPUs Available:  1\n",
            "Thu Dec  7 11:42:20 2023       \n",
            "+-----------------------------------------------------------------------------+\n",
            "| NVIDIA-SMI 525.105.17   Driver Version: 525.105.17   CUDA Version: 12.0     |\n",
            "|-------------------------------+----------------------+----------------------+\n",
            "| GPU  Name        Persistence-M| Bus-Id        Disp.A | Volatile Uncorr. ECC |\n",
            "| Fan  Temp  Perf  Pwr:Usage/Cap|         Memory-Usage | GPU-Util  Compute M. |\n",
            "|                               |                      |               MIG M. |\n",
            "|===============================+======================+======================|\n",
            "|   0  Tesla T4            Off  | 00000000:00:04.0 Off |                    0 |\n",
            "| N/A   56C    P8    10W /  70W |      3MiB / 15360MiB |      0%      Default |\n",
            "|                               |                      |                  N/A |\n",
            "+-------------------------------+----------------------+----------------------+\n",
            "                                                                               \n",
            "+-----------------------------------------------------------------------------+\n",
            "| Processes:                                                                  |\n",
            "|  GPU   GI   CI        PID   Type   Process name                  GPU Memory |\n",
            "|        ID   ID                                                   Usage      |\n",
            "|=============================================================================|\n",
            "|  No running processes found                                                 |\n",
            "+-----------------------------------------------------------------------------+\n"
          ]
        }
      ],
      "source": [
        "import tensorflow as tf\n",
        "print(\"Num GPUs Available: \", len(tf.config.experimental.list_physical_devices('GPU')))\n",
        "!export CUDA_VISIBLE_DEVICES=1\n",
        "!nvidia-smi\n",
        "gpu_options = tf.compat.v1.GPUOptions(allow_growth=True)\n",
        "session = tf.compat.v1.InteractiveSession(config=tf.compat.v1.ConfigProto(gpu_options=gpu_options))"
      ],
      "id": "9083f4d7"
    },
    {
      "cell_type": "code",
      "execution_count": 3,
      "metadata": {
        "id": "0e0eeda8"
      },
      "outputs": [],
      "source": [
        "import os\n",
        "import numpy as np\n",
        "import pandas as pd\n",
        "from sklearn.model_selection import train_test_split"
      ],
      "id": "0e0eeda8"
    },
    {
      "cell_type": "code",
      "execution_count": 6,
      "metadata": {
        "colab": {
          "base_uri": "https://localhost:8080/"
        },
        "id": "88695e6b",
        "outputId": "f18ed839-4d49-4024-e9c6-1110f770d216"
      },
      "outputs": [
        {
          "output_type": "stream",
          "name": "stdout",
          "text": [
            "(1008, 225, 300, 3)\n",
            "(1008,)\n"
          ]
        }
      ],
      "source": [
        "# Paths to the data\n",
        "images_path = os.path.join(folder_path, \"images_mel.npy\")\n",
        "#images_path = os.path.join(folder_path, \"images_filtered.npy\")\n",
        "labels_path = os.path.join(folder_path, \"labels_mel.npy\")\n",
        "\n",
        "# Load the data\n",
        "images = np.load(images_path, allow_pickle=True)\n",
        "images_normalized = images.astype(np.float32) / 255.0\n",
        "labels = np.load(labels_path, allow_pickle=True)\n",
        "print(images.shape)\n",
        "print(labels.shape)\n",
        "\n",
        "# Disordering the data\n",
        "permuted_indices = np.random.permutation(images.shape[0])\n",
        "\n",
        "shuffled_images = images[permuted_indices]\n",
        "shuffled_labels = labels[permuted_indices]"
      ],
      "id": "88695e6b"
    },
    {
      "cell_type": "code",
      "execution_count": null,
      "metadata": {
        "colab": {
          "base_uri": "https://localhost:8080/"
        },
        "id": "GAcnNygUnosn",
        "outputId": "f70ed260-8d4e-440b-8d05-caaff69d6fa2"
      },
      "outputs": [
        {
          "data": {
            "text/plain": [
              "0.5"
            ]
          },
          "execution_count": 8,
          "metadata": {},
          "output_type": "execute_result"
        }
      ],
      "source": [
        "class_sums = labels.sum(axis=0)\n",
        "\n",
        "class_proportions = class_sums / labels.shape[0]\n",
        "class_proportions"
      ],
      "id": "GAcnNygUnosn"
    },
    {
      "cell_type": "code",
      "execution_count": 7,
      "metadata": {
        "id": "6add62e9"
      },
      "outputs": [],
      "source": [
        "# Split the dataset\n",
        "X_train, X_val, y_train, y_val = train_test_split(images, labels, test_size=0.2, stratify=labels, random_state=1234)\n",
        "\n",
        "# Convert and normalize the image data\n",
        "X_train = X_train.astype('float32')\n",
        "X_val = X_val.astype('float32')\n",
        "\n",
        "# Convert labels to the correct type if necessary\n",
        "y_train = y_train.astype('float32')\n",
        "y_val = y_val.astype('float32')"
      ],
      "id": "6add62e9"
    },
    {
      "cell_type": "code",
      "execution_count": null,
      "metadata": {
        "colab": {
          "base_uri": "https://localhost:8080/"
        },
        "id": "59522dd4",
        "outputId": "da94a7e2-28b9-4a74-d94f-3a19cfad9acc"
      },
      "outputs": [
        {
          "name": "stdout",
          "output_type": "stream",
          "text": [
            "Epoch 1/25\n",
            "25/25 [==============================] - 18s 572ms/step - loss: 0.9043 - accuracy: 0.5969 - val_loss: 2.6804 - val_accuracy: 0.5000\n",
            "Epoch 2/25\n",
            "25/25 [==============================] - 14s 544ms/step - loss: 0.6707 - accuracy: 0.7481 - val_loss: 1.8700 - val_accuracy: 0.5050\n",
            "Epoch 3/25\n",
            "25/25 [==============================] - 12s 466ms/step - loss: 0.6749 - accuracy: 0.6783 - val_loss: 1.6451 - val_accuracy: 0.5198\n",
            "Epoch 4/25\n",
            "25/25 [==============================] - 14s 541ms/step - loss: 0.5997 - accuracy: 0.7212 - val_loss: 0.7815 - val_accuracy: 0.6386\n",
            "Epoch 5/25\n",
            "25/25 [==============================] - 14s 578ms/step - loss: 0.5895 - accuracy: 0.7377 - val_loss: 0.9752 - val_accuracy: 0.6040\n",
            "Epoch 6/25\n",
            "25/25 [==============================] - 14s 568ms/step - loss: 0.5799 - accuracy: 0.7442 - val_loss: 1.0749 - val_accuracy: 0.5594\n",
            "Epoch 7/25\n",
            "25/25 [==============================] - 15s 609ms/step - loss: 0.5647 - accuracy: 0.7416 - val_loss: 1.5817 - val_accuracy: 0.5050\n",
            "Epoch 8/25\n",
            "25/25 [==============================] - 14s 579ms/step - loss: 0.6052 - accuracy: 0.6873 - val_loss: 0.5819 - val_accuracy: 0.7525\n",
            "Epoch 9/25\n",
            "25/25 [==============================] - 13s 509ms/step - loss: 0.5460 - accuracy: 0.7597 - val_loss: 0.5678 - val_accuracy: 0.7970\n",
            "Epoch 10/25\n",
            "25/25 [==============================] - 12s 475ms/step - loss: 0.5550 - accuracy: 0.7442 - val_loss: 0.5820 - val_accuracy: 0.7228\n",
            "Epoch 11/25\n",
            "25/25 [==============================] - 14s 557ms/step - loss: 0.5028 - accuracy: 0.7584 - val_loss: 0.5619 - val_accuracy: 0.7475\n",
            "Epoch 12/25\n",
            "25/25 [==============================] - 14s 577ms/step - loss: 0.5004 - accuracy: 0.7868 - val_loss: 0.4798 - val_accuracy: 0.8020\n",
            "Epoch 13/25\n",
            "25/25 [==============================] - 14s 575ms/step - loss: 0.5086 - accuracy: 0.7804 - val_loss: 0.4639 - val_accuracy: 0.8317\n",
            "Epoch 14/25\n",
            "25/25 [==============================] - 14s 575ms/step - loss: 0.5216 - accuracy: 0.7739 - val_loss: 0.4795 - val_accuracy: 0.8218\n",
            "Epoch 15/25\n",
            "25/25 [==============================] - 15s 591ms/step - loss: 0.5545 - accuracy: 0.7675 - val_loss: 0.5519 - val_accuracy: 0.7723\n",
            "Epoch 16/25\n",
            "25/25 [==============================] - 16s 643ms/step - loss: 0.5013 - accuracy: 0.8101 - val_loss: 0.5217 - val_accuracy: 0.7426\n",
            "Epoch 17/25\n",
            "25/25 [==============================] - 14s 567ms/step - loss: 0.5216 - accuracy: 0.7687 - val_loss: 0.4896 - val_accuracy: 0.7822\n",
            "Epoch 18/25\n",
            "25/25 [==============================] - 14s 567ms/step - loss: 0.5312 - accuracy: 0.7791 - val_loss: 0.5217 - val_accuracy: 0.8119\n",
            "Epoch 19/25\n",
            "25/25 [==============================] - 13s 510ms/step - loss: 0.5501 - accuracy: 0.7661 - val_loss: 0.5055 - val_accuracy: 0.8119\n",
            "Epoch 20/25\n",
            "25/25 [==============================] - 14s 579ms/step - loss: 0.5549 - accuracy: 0.7778 - val_loss: 0.5378 - val_accuracy: 0.8020\n",
            "Epoch 21/25\n",
            "25/25 [==============================] - 14s 567ms/step - loss: 0.5178 - accuracy: 0.7894 - val_loss: 0.5006 - val_accuracy: 0.7822\n",
            "Epoch 22/25\n",
            "25/25 [==============================] - 14s 571ms/step - loss: 0.5305 - accuracy: 0.7636 - val_loss: 0.4378 - val_accuracy: 0.8515\n",
            "Epoch 23/25\n",
            "25/25 [==============================] - 15s 589ms/step - loss: 0.4964 - accuracy: 0.7900 - val_loss: 0.4587 - val_accuracy: 0.8119\n",
            "Epoch 24/25\n",
            "25/25 [==============================] - 12s 490ms/step - loss: 0.4877 - accuracy: 0.8101 - val_loss: 0.5340 - val_accuracy: 0.7822\n",
            "Epoch 25/25\n",
            "25/25 [==============================] - 13s 489ms/step - loss: 0.5462 - accuracy: 0.7687 - val_loss: 0.5470 - val_accuracy: 0.7822\n"
          ]
        }
      ],
      "source": [
        "from tensorflow.keras.models import Sequential\n",
        "from tensorflow.keras.optimizers import Adam\n",
        "from tensorflow.keras.layers import Conv2D, MaxPooling2D, Flatten, Dense, Dropout, BatchNormalization\n",
        "from tensorflow.keras.preprocessing.image import ImageDataGenerator\n",
        "from tensorflow.keras.regularizers import l2\n",
        "from tensorflow.keras.callbacks import EarlyStopping, ReduceLROnPlateau\n",
        "\n",
        "model = Sequential([\n",
        "    BatchNormalization(input_shape=(225, 300, 3)),\n",
        "\n",
        "    Conv2D(16, (5, 5), activation='relu', padding='same'),\n",
        "    Conv2D(16, (3, 3), activation='relu', padding='same'),\n",
        "    MaxPooling2D(),\n",
        "\n",
        "    Conv2D(32, (3, 3), activation='relu', padding='same'),\n",
        "    Conv2D(32, (3, 3), activation='relu', padding='same'),\n",
        "    MaxPooling2D(),\n",
        "\n",
        "    Flatten(),\n",
        "\n",
        "    Dense(64, activation='relu', kernel_regularizer=l2(0.001)),\n",
        "    Dropout(0.25),\n",
        "\n",
        "    Dense(1, activation='sigmoid', kernel_regularizer=l2(0.001))  # Changed to sigmoid\n",
        "])\n",
        "\n",
        "model.compile(optimizer='adam', loss='binary_crossentropy', metrics=['accuracy'])\n",
        "\n",
        "train_datagen = ImageDataGenerator(\n",
        "    width_shift_range=0.1,  # Small horizontal shifts to simulate patient movement\n",
        "    height_shift_range=0.1,  # Small vertical shifts to simulate patient movement\n",
        "    zoom_range=0.1,  # Slight zooming in/out\n",
        "    fill_mode='nearest',  # Fill in missing pixels with the nearest filled value\n",
        "    horizontal_flip=False,\n",
        "    vertical_flip=False,\n",
        ")\n",
        "\n",
        "# Apply the augmentation to the training dataset\n",
        "train_generator = train_datagen.flow(\n",
        "    X_train, y_train,\n",
        "    batch_size=32  # Batch size\n",
        ")\n",
        "\n",
        "# Fit the model using the generator\n",
        "history = model.fit(\n",
        "    train_generator,\n",
        "    validation_data=(X_val, y_val),\n",
        "    epochs=25,  # Number of epochs\n",
        "    steps_per_epoch=len(X_train) // 32  # Number of steps per epoch, typically the size of X_train divided by batch size\n",
        ")"
      ],
      "id": "59522dd4"
    },
    {
      "cell_type": "code",
      "execution_count": null,
      "metadata": {
        "colab": {
          "base_uri": "https://localhost:8080/"
        },
        "id": "sDO3ukiDpxRy",
        "outputId": "ec87ad57-28cc-4bbf-f52a-9caf09dbc916"
      },
      "outputs": [
        {
          "name": "stdout",
          "output_type": "stream",
          "text": [
            "Model: \"sequential\"\n",
            "_________________________________________________________________\n",
            " Layer (type)                Output Shape              Param #   \n",
            "=================================================================\n",
            " batch_normalization (Batch  (None, 225, 300, 3)       12        \n",
            " Normalization)                                                  \n",
            "                                                                 \n",
            " conv2d (Conv2D)             (None, 225, 300, 16)      1216      \n",
            "                                                                 \n",
            " conv2d_1 (Conv2D)           (None, 225, 300, 16)      2320      \n",
            "                                                                 \n",
            " max_pooling2d (MaxPooling2  (None, 112, 150, 16)      0         \n",
            " D)                                                              \n",
            "                                                                 \n",
            " conv2d_2 (Conv2D)           (None, 112, 150, 32)      4640      \n",
            "                                                                 \n",
            " conv2d_3 (Conv2D)           (None, 112, 150, 32)      9248      \n",
            "                                                                 \n",
            " max_pooling2d_1 (MaxPoolin  (None, 56, 75, 32)        0         \n",
            " g2D)                                                            \n",
            "                                                                 \n",
            " flatten (Flatten)           (None, 134400)            0         \n",
            "                                                                 \n",
            " dense (Dense)               (None, 64)                8601664   \n",
            "                                                                 \n",
            " dropout (Dropout)           (None, 64)                0         \n",
            "                                                                 \n",
            " dense_1 (Dense)             (None, 7)                 455       \n",
            "                                                                 \n",
            "=================================================================\n",
            "Total params: 8619555 (32.88 MB)\n",
            "Trainable params: 8619549 (32.88 MB)\n",
            "Non-trainable params: 6 (24.00 Byte)\n",
            "_________________________________________________________________\n"
          ]
        }
      ],
      "source": [
        "model.summary()"
      ],
      "id": "sDO3ukiDpxRy"
    },
    {
      "cell_type": "code",
      "execution_count": 4,
      "metadata": {
        "id": "5528b8c1"
      },
      "outputs": [],
      "source": [
        "import tensorflow as tf\n",
        "model_path = os.path.join(folder_path, 'model_mel')\n",
        "#model.save(model_path)\n",
        "model = tf.keras.models.load_model(model_path)"
      ],
      "id": "5528b8c1"
    },
    {
      "cell_type": "code",
      "execution_count": 8,
      "metadata": {
        "colab": {
          "base_uri": "https://localhost:8080/",
          "height": 646
        },
        "id": "dXXQaPZ8Z5NV",
        "outputId": "f22e5b24-43bf-43e0-ebb4-11b7949e3d0f"
      },
      "outputs": [
        {
          "output_type": "stream",
          "name": "stdout",
          "text": [
            "26/26 [==============================] - 65s 2s/step\n",
            "              precision    recall  f1-score   support\n",
            "\n",
            "         0.0       0.92      0.58      0.71       403\n",
            "         1.0       0.70      0.95      0.80       403\n",
            "\n",
            "    accuracy                           0.77       806\n",
            "   macro avg       0.81      0.77      0.76       806\n",
            "weighted avg       0.81      0.77      0.76       806\n",
            "\n"
          ]
        },
        {
          "output_type": "display_data",
          "data": {
            "text/plain": [
              "<Figure size 640x480 with 2 Axes>"
            ],
            "image/png": "[encoded data removed]"
          },
          "metadata": {}
        }
      ],
      "source": [
        "from sklearn.metrics import confusion_matrix, classification_report\n",
        "import matplotlib.pyplot as plt\n",
        "import seaborn as sns\n",
        "import numpy as np\n",
        "\n",
        "# Get probability predictions for the validation set\n",
        "y_pred_probs = model.predict(X_train)\n",
        "\n",
        "# Convert probabilities to class labels using 0.5 as a threshold\n",
        "y_pred = (y_pred_probs > 0.5).astype(\"int32\").reshape(-1)\n",
        "\n",
        "y_true = y_train\n",
        "\n",
        "# Print the classification report\n",
        "print(classification_report(y_true, y_pred))\n",
        "\n",
        "# Compute the confusion matrix\n",
        "cm = confusion_matrix(y_true, y_pred)\n",
        "\n",
        "category_names = ['Non-MEL', 'MEL']  # Only two categories\n",
        "# Confusion matrix using seaborn\n",
        "sns.heatmap(cm, annot=True, fmt='d', cmap='Blues', xticklabels=category_names, yticklabels=category_names)\n",
        "plt.xlabel('Predicted')\n",
        "plt.title('CNN Confusion Matrix')\n",
        "plt.ylabel('True')\n",
        "plt.show()"
      ],
      "id": "dXXQaPZ8Z5NV"
    },
    {
      "cell_type": "code",
      "execution_count": 12,
      "metadata": {
        "colab": {
          "base_uri": "https://localhost:8080/",
          "height": 646
        },
        "id": "3UGYbB8nQ8Be",
        "outputId": "dc356ab1-8bed-45ee-d20b-7c9492a7781b"
      },
      "outputs": [
        {
          "output_type": "stream",
          "name": "stdout",
          "text": [
            "7/7 [==============================] - 12s 2s/step\n",
            "              precision    recall  f1-score   support\n",
            "\n",
            "         0.0       0.95      0.59      0.73       101\n",
            "         1.0       0.71      0.97      0.82       101\n",
            "\n",
            "    accuracy                           0.78       202\n",
            "   macro avg       0.83      0.78      0.77       202\n",
            "weighted avg       0.83      0.78      0.77       202\n",
            "\n"
          ]
        },
        {
          "output_type": "display_data",
          "data": {
            "text/plain": [
              "<Figure size 640x480 with 2 Axes>"
            ],
            "image/png": "[encoded data removed]"
          },
          "metadata": {}
        }
      ],
      "source": [
        "# Get probability predictions for the validation set\n",
        "y_pred_probs = model.predict(X_val)\n",
        "\n",
        "# Convert probabilities to class labels using 0.5 as a threshold\n",
        "y_pred = (y_pred_probs > 0.5).astype(\"int32\").reshape(-1)\n",
        "\n",
        "y_true = y_val\n",
        "\n",
        "# Print the classification report\n",
        "print(classification_report(y_true, y_pred))\n",
        "\n",
        "# Compute the confusion matrix\n",
        "cm = confusion_matrix(y_true, y_pred)\n",
        "\n",
        "category_names = ['Non-MEL', 'MEL']  # Only two categories\n",
        "# Confusion matrix using seaborn\n",
        "sns.heatmap(cm, annot=True, fmt='d', cmap='Blues', xticklabels=category_names, yticklabels=category_names)\n",
        "plt.xlabel('Predicted')\n",
        "plt.ylabel('True')\n",
        "plt.title('CNN Confusion Matrix')\n",
        "plt.show()\n"
      ],
      "id": "3UGYbB8nQ8Be"
    },
    {
      "cell_type": "code",
      "execution_count": 10,
      "metadata": {
        "colab": {
          "base_uri": "https://localhost:8080/",
          "height": 489
        },
        "id": "rpfjwTabHpaN",
        "outputId": "7287845f-5dec-4b2a-d848-dc52d72fa243"
      },
      "outputs": [
        {
          "output_type": "display_data",
          "data": {
            "text/plain": [
              "<Figure size 640x480 with 1 Axes>"
            ],
            "image/png": "[encoded data removed]"
          },
          "metadata": {}
        },
        {
          "output_type": "stream",
          "name": "stdout",
          "text": [
            "For achieving a recall value of 0.99 for the melanoma class, the threshold should be: 0.22985361516475677\n"
          ]
        }
      ],
      "source": [
        "from sklearn.metrics import precision_recall_curve\n",
        "import matplotlib.pyplot as plt\n",
        "\n",
        "precision, recall, thresholds = precision_recall_curve(y_true, y_pred_probs)\n",
        "\n",
        "# Plotting the Precision-Recall curve\n",
        "plt.plot(recall, precision, marker='.')\n",
        "plt.xlabel('Recall')\n",
        "plt.ylabel('Precision')\n",
        "plt.title('Precision-Recall Curve for the binary model')\n",
        "plt.grid(True)\n",
        "plt.show()\n",
        "\n",
        "# Function to find the threshold for a given recall value for class 1 (melanoma)\n",
        "def find_threshold_for_recall(recall_value, recall, thresholds):\n",
        "    # Finding the index where the recall array is closest to the recall_value\n",
        "    idx = (np.abs(recall - recall_value)).argmin()\n",
        "    return thresholds[idx]\n",
        "\n",
        "# Finding threshold for a certain recall value\n",
        "recall_value = 0.99\n",
        "threshold_for_recall = find_threshold_for_recall(recall_value, recall, thresholds)\n",
        "\n",
        "formatted_print = f\"For achieving a recall value of {recall_value} for the melanoma class, the threshold should be: {threshold_for_recall}\"\n",
        "print(formatted_print)\n"
      ],
      "id": "rpfjwTabHpaN"
    },
    {
      "cell_type": "code",
      "execution_count": 13,
      "metadata": {
        "colab": {
          "base_uri": "https://localhost:8080/",
          "height": 629
        },
        "id": "GNQnqyx4QhQz",
        "outputId": "20d7a4b9-ec82-4f7e-9827-ad7fc9071676"
      },
      "outputs": [
        {
          "output_type": "stream",
          "name": "stdout",
          "text": [
            "7/7 [==============================] - 12s 2s/step\n",
            "              precision    recall  f1-score   support\n",
            "\n",
            "         0.0       0.97      0.34      0.50       101\n",
            "         1.0       0.60      0.99      0.75       101\n",
            "\n",
            "    accuracy                           0.66       202\n",
            "   macro avg       0.79      0.66      0.62       202\n",
            "weighted avg       0.79      0.66      0.62       202\n",
            "\n"
          ]
        },
        {
          "output_type": "display_data",
          "data": {
            "text/plain": [
              "<Figure size 640x480 with 2 Axes>"
            ],
            "image/png": "[encoded data removed]"
          },
          "metadata": {}
        }
      ],
      "source": [
        "# Get probability predictions for the validation set\n",
        "y_pred_probs = model.predict(X_val)\n",
        "\n",
        "# Convert probabilities to class labels using the previous threshold\n",
        "y_pred = (y_pred_probs > threshold_for_recall).astype(\"int32\").reshape(-1)\n",
        "\n",
        "y_true = y_val\n",
        "\n",
        "# Print the classification report\n",
        "print(classification_report(y_true, y_pred))\n",
        "\n",
        "# Compute the confusion matrix\n",
        "cm = confusion_matrix(y_true, y_pred)\n",
        "\n",
        "category_names = ['Non-MEL', 'MEL']  # Only two categories\n",
        "# Confusion matrix using seaborn\n",
        "sns.heatmap(cm, annot=True, fmt='d', cmap='Blues', xticklabels=category_names, yticklabels=category_names)\n",
        "plt.xlabel('Predicted')\n",
        "plt.ylabel('True')\n",
        "plt.show()\n"
      ],
      "id": "GNQnqyx4QhQz"
    }
  ],
  "metadata": {
    "colab": {
      "provenance": []
    },
    "kernelspec": {
      "display_name": "Python 3",
      "name": "python3"
    },
    "language_info": {
      "codemirror_mode": {
        "name": "ipython",
        "version": 3
      },
      "file_extension": ".py",
      "mimetype": "text/x-python",
      "name": "python",
      "nbconvert_exporter": "python",
      "pygments_lexer": "ipython3",
      "version": "3.10.11"
    }
  },
  "nbformat": 4,
  "nbformat_minor": 5
}